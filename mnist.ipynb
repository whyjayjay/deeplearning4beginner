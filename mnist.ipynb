{
  "nbformat": 4,
  "nbformat_minor": 0,
  "metadata": {
    "colab": {
      "name": "mnist.ipynb",
      "provenance": [],
      "authorship_tag": "ABX9TyMYcadbaHgBjzmDhR+4aDou",
      "include_colab_link": true
    },
    "kernelspec": {
      "name": "python3",
      "display_name": "Python 3"
    }
  },
  "cells": [
    {
      "cell_type": "markdown",
      "metadata": {
        "id": "view-in-github",
        "colab_type": "text"
      },
      "source": [
        "<a href=\"https://colab.research.google.com/github/whyjayjay/deeplearning4beginner/blob/main/mnist.ipynb\" target=\"_parent\"><img src=\"https://colab.research.google.com/assets/colab-badge.svg\" alt=\"Open In Colab\"/></a>"
      ]
    },
    {
      "cell_type": "code",
      "metadata": {
        "id": "40nneh_Owvb_",
        "colab": {
          "base_uri": "https://localhost:8080/"
        },
        "outputId": "d76f575b-cb2d-4aa9-f53a-513809dbde60"
      },
      "source": [
        "# MNIST 데이터셋 다운받기\n",
        "from tensorflow.keras.datasets.mnist import load_data\n",
        "\n",
        "# 텐서플로우 저장소에서 데이터를 다운받습니다.\n",
        "(x_train, y_train), (x_test, y_test) = load_data(path='mnist.npz')"
      ],
      "execution_count": null,
      "outputs": [
        {
          "output_type": "stream",
          "text": [
            "Downloading data from https://storage.googleapis.com/tensorflow/tf-keras-datasets/mnist.npz\n",
            "11493376/11490434 [==============================] - 0s 0us/step\n"
          ],
          "name": "stdout"
        }
      ]
    },
    {
      "cell_type": "code",
      "metadata": {
        "colab": {
          "base_uri": "https://localhost:8080/"
        },
        "id": "LxsT_CNhxwO1",
        "outputId": "1c7963a4-9177-42a5-c95a-c4892dfab6ee"
      },
      "source": [
        "# 데이터의 형태 확인하기\n",
        "# 학습데이터\n",
        "print(x_train.shape, y_train.shape)\n",
        "print(y_train) \n",
        "\n",
        "# 테스트 데이터\n",
        "print(x_test.shape, y_test.shape) \n",
        "print(y_test)"
      ],
      "execution_count": null,
      "outputs": [
        {
          "output_type": "stream",
          "text": [
            "(60000, 28, 28) (60000,)\n",
            "[5 0 4 ... 5 6 8]\n",
            "(10000, 28, 28) (10000,)\n",
            "[7 2 1 ... 4 5 6]\n"
          ],
          "name": "stdout"
        }
      ]
    },
    {
      "cell_type": "code",
      "metadata": {
        "colab": {
          "base_uri": "https://localhost:8080/",
          "height": 809
        },
        "id": "7d792M-aygvr",
        "outputId": "4c0e29ff-ea5c-4503-91cb-d1b14c441ba5"
      },
      "source": [
        "# 데이터 그려보기 \n",
        "import matplotlib.pyplot as plt \n",
        "import numpy as np\n",
        "\n",
        "sample_size = 3 \n",
        "# 0~59999의 범위에서 무작위로 세 개의 정수를 뽑습니다.\n",
        "random_idx = np.random.randint(60000, size=sample_size)\n",
        "\n",
        "for idx in random_idx:\n",
        "    img   = x_train[idx, :] \n",
        "    label = y_train[idx]\n",
        "    plt.figure()\n",
        "    plt.imshow(img)\n",
        "    plt.title('%d-th data, label is %d' % (idx,label)) "
      ],
      "execution_count": null,
      "outputs": [
        {
          "output_type": "display_data",
          "data": {
            "image/png": "[encoded data removed]",
            "text/plain": [
              "<Figure size 432x288 with 1 Axes>"
            ]
          },
          "metadata": {
            "tags": [],
            "needs_background": "light"
          }
        },
        {
          "output_type": "display_data",
          "data": {
            "image/png": "[encoded data removed]",
            "text/plain": [
              "<Figure size 432x288 with 1 Axes>"
            ]
          },
          "metadata": {
            "tags": [],
            "needs_background": "light"
          }
        },
        {
          "output_type": "display_data",
          "data": {
            "image/png": "[encoded data removed]",
            "text/plain": [
              "<Figure size 432x288 with 1 Axes>"
            ]
          },
          "metadata": {
            "tags": [],
            "needs_background": "light"
          }
        }
      ]
    },
    {
      "cell_type": "code",
      "metadata": {
        "colab": {
          "base_uri": "https://localhost:8080/"
        },
        "id": "HCydXSOm2znK",
        "outputId": "61c3ebfa-daf4-4ca6-de85-ef0e812ed9d5"
      },
      "source": [
        "# 검증 데이터 만들기 \n",
        "from sklearn.model_selection import train_test_split \n",
        "\n",
        "# 훈련/테스트 데이터를 0.7/0.3의 비율로 분리합니다. \n",
        "x_train, x_val, y_train, y_val = train_test_split(x_train, y_train,\n",
        "                                                  test_size    = 0.3,\n",
        "                                                  random_state = 777)\n",
        "print(f'훈련 데이터 {x_train.shape} 레이블 {y_train.shape}')\n",
        "print(f'검증 데이터 {x_test.shape}  레이블 {y_test.shape}')"
      ],
      "execution_count": null,
      "outputs": [
        {
          "output_type": "stream",
          "text": [
            "훈련 데이터 (42000, 28, 28) 레이블 (42000,)\n",
            "검증 데이터 (10000, 28, 28)  레이블 (10000,)\n"
          ],
          "name": "stdout"
        }
      ]
    },
    {
      "cell_type": "code",
      "metadata": {
        "colab": {
          "base_uri": "https://localhost:8080/"
        },
        "id": "n55jRpQz3oJj",
        "outputId": "af45de67-ec62-4d34-ba51-6d5df2abe5c6"
      },
      "source": [
        "# 모델 입력을 위한 데이터 전처리 \n",
        "num_x_train = x_train.shape[0]\n",
        "num_x_val   = x_val.shape[0] \n",
        "num_x_test  = x_test.shape[0]\n",
        "\n",
        "# 모델의 입력으로 사용하기 위한 전처리 과정입니다.\n",
        "x_train = (x_train.reshape((num_x_train, 28 * 28))) / 255\n",
        "x_val   = (x_val.reshape((num_x_val, 28 * 28))) / 255\n",
        "x_test  = (x_test.reshape((num_x_test, 28 * 28))) / 255 \n",
        "\n",
        "print(x_train.shape)     # 모델 입력을 위해 데이터를 784차원으로 변경합니다. "
      ],
      "execution_count": null,
      "outputs": [
        {
          "output_type": "stream",
          "text": [
            "(42000, 784)\n"
          ],
          "name": "stdout"
        }
      ]
    },
    {
      "cell_type": "code",
      "metadata": {
        "colab": {
          "base_uri": "https://localhost:8080/"
        },
        "id": "YuAlElWa4-Ao",
        "outputId": "37cff937-b88a-4b50-a7ee-a663b25f5737"
      },
      "source": [
        "# 모델 입력을 위한 레이블 전처리 \n",
        "from tensorflow.keras.utils import to_categorical \n",
        "\n",
        "# 각 데이터의 레이블을 범주형 형태로 변경합니다. \n",
        "y_train = to_categorical(y_train)\n",
        "y_val   = to_categorical(y_val) \n",
        "y_test  = to_categorical(y_test) \n",
        "\n",
        "print(y_train)"
      ],
      "execution_count": null,
      "outputs": [
        {
          "output_type": "stream",
          "text": [
            "[[0. 0. 1. ... 0. 0. 0.]\n",
            " [0. 0. 0. ... 1. 0. 0.]\n",
            " [0. 0. 0. ... 0. 0. 0.]\n",
            " ...\n",
            " [0. 0. 0. ... 0. 0. 0.]\n",
            " [0. 0. 0. ... 0. 0. 0.]\n",
            " [0. 0. 0. ... 0. 0. 0.]]\n"
          ],
          "name": "stdout"
        }
      ]
    },
    {
      "cell_type": "code",
      "metadata": {
        "id": "Dp76qLVW53hn"
      },
      "source": [
        "# 모델 구성하기  \n",
        "from tensorflow.keras.models import Sequential\n",
        "from tensorflow.keras.layers import Dense\n",
        "\n",
        "model = Sequential() \n",
        "# 입력 데이터의 형태를 꼭 명시해야 합니다.\n",
        "# 784차원의 데이터를 입력으로 받고, 64개의 출력을 가지는 첫 번째 Dense층 \n",
        "model.add(Dense(64, activation = 'relu', input_shape = (784,))) \n",
        "model.add(Dense(32, activation = 'relu'))    # 32개의 출력을 가지는 Dense층\n",
        "model.add(Dense(10, activation = 'softmax')) # 10개의 출력을 가지는 신경망"
      ],
      "execution_count": null,
      "outputs": []
    },
    {
      "cell_type": "code",
      "metadata": {
        "colab": {
          "base_uri": "https://localhost:8080/"
        },
        "id": "huWA_nO27ZIV",
        "outputId": "117f2054-df78-407c-8a00-de3803e36375"
      },
      "source": [
        "# 소프트맥스와 시그모이드 값의 비교 \n",
        "def softmax(arr):\n",
        "    m = np.max(arr)\n",
        "    arr = arr - m # exp의 오버플로우 방지\n",
        "    arr = np.exp(arr)\n",
        "    return arr / np.sum(arr) \n",
        "\n",
        "def sigmoid(x):\n",
        "    return 1 / (1 + np.exp(-x))\n",
        "\n",
        "case_1 = np.array([3.1, 3.0, 2.9])\n",
        "case_2 = np.array([2.0, 1.0, 0.7])\n",
        "\n",
        "np.set_printoptions(precision=3)      # numpy 소수점 제한\n",
        "print(f'sigmoid {sigmoid(case_1)}, softmax {softmax(case_1)}')\n",
        "print(f'sigmoid {sigmoid(case_2)}, softmax {softmax(case_2)}')"
      ],
      "execution_count": null,
      "outputs": [
        {
          "output_type": "stream",
          "text": [
            "sigmoid [0.957 0.953 0.948], softmax [0.367 0.332 0.301]\n",
            "sigmoid [0.881 0.731 0.668], softmax [0.61  0.224 0.166]\n"
          ],
          "name": "stdout"
        }
      ]
    },
    {
      "cell_type": "code",
      "metadata": {
        "id": "6HkW59dg9v40"
      },
      "source": [
        "# 학습과정 설정하기 \n",
        "model.compile(optimizer='adam',   # 옵티마이저: Adam\n",
        "              # 손실함수: categorical_crossentropy\n",
        "              loss = 'categorical_crossentropy',\n",
        "              # 모니터링 할 평가지표: acc\n",
        "              metrics=['acc'])"
      ],
      "execution_count": null,
      "outputs": []
    },
    {
      "cell_type": "code",
      "metadata": {
        "colab": {
          "base_uri": "https://localhost:8080/"
        },
        "id": "I_ghKKfb-oI5",
        "outputId": "403f44b8-589d-409b-9725-51b011f29f9f"
      },
      "source": [
        "# 모델 학습하기\n",
        "history = model.fit(x_train, y_train,\n",
        "                    epochs = 30,\n",
        "                    batch_size = 128,\n",
        "                    validation_data = (x_val, y_val)) "
      ],
      "execution_count": null,
      "outputs": [
        {
          "output_type": "stream",
          "text": [
            "Epoch 1/30\n",
            "329/329 [==============================] - 2s 4ms/step - loss: 0.8604 - acc: 0.7507 - val_loss: 0.2741 - val_acc: 0.9213\n",
            "Epoch 2/30\n",
            "329/329 [==============================] - 1s 3ms/step - loss: 0.2387 - acc: 0.9341 - val_loss: 0.1978 - val_acc: 0.9437\n",
            "Epoch 3/30\n",
            "329/329 [==============================] - 1s 3ms/step - loss: 0.1794 - acc: 0.9491 - val_loss: 0.1680 - val_acc: 0.9501\n",
            "Epoch 4/30\n",
            "329/329 [==============================] - 1s 3ms/step - loss: 0.1412 - acc: 0.9594 - val_loss: 0.1476 - val_acc: 0.9569\n",
            "Epoch 5/30\n",
            "329/329 [==============================] - 1s 3ms/step - loss: 0.1116 - acc: 0.9672 - val_loss: 0.1417 - val_acc: 0.9584\n",
            "Epoch 6/30\n",
            "329/329 [==============================] - 1s 3ms/step - loss: 0.0945 - acc: 0.9718 - val_loss: 0.1299 - val_acc: 0.9609\n",
            "Epoch 7/30\n",
            "329/329 [==============================] - 1s 3ms/step - loss: 0.0843 - acc: 0.9773 - val_loss: 0.1202 - val_acc: 0.9643\n",
            "Epoch 8/30\n",
            "329/329 [==============================] - 1s 3ms/step - loss: 0.0739 - acc: 0.9796 - val_loss: 0.1169 - val_acc: 0.9659\n",
            "Epoch 9/30\n",
            "329/329 [==============================] - 1s 3ms/step - loss: 0.0623 - acc: 0.9816 - val_loss: 0.1127 - val_acc: 0.9669\n",
            "Epoch 10/30\n",
            "329/329 [==============================] - 1s 3ms/step - loss: 0.0576 - acc: 0.9830 - val_loss: 0.1286 - val_acc: 0.9612\n",
            "Epoch 11/30\n",
            "329/329 [==============================] - 1s 3ms/step - loss: 0.0502 - acc: 0.9853 - val_loss: 0.1135 - val_acc: 0.9681\n",
            "Epoch 12/30\n",
            "329/329 [==============================] - 1s 3ms/step - loss: 0.0476 - acc: 0.9860 - val_loss: 0.1137 - val_acc: 0.9670\n",
            "Epoch 13/30\n",
            "329/329 [==============================] - 1s 3ms/step - loss: 0.0387 - acc: 0.9890 - val_loss: 0.1127 - val_acc: 0.9677\n",
            "Epoch 14/30\n",
            "329/329 [==============================] - 1s 3ms/step - loss: 0.0405 - acc: 0.9883 - val_loss: 0.1104 - val_acc: 0.9691\n",
            "Epoch 15/30\n",
            "329/329 [==============================] - 1s 3ms/step - loss: 0.0307 - acc: 0.9921 - val_loss: 0.1148 - val_acc: 0.9677\n",
            "Epoch 16/30\n",
            "329/329 [==============================] - 1s 3ms/step - loss: 0.0291 - acc: 0.9922 - val_loss: 0.1217 - val_acc: 0.9662\n",
            "Epoch 17/30\n",
            "329/329 [==============================] - 1s 3ms/step - loss: 0.0213 - acc: 0.9948 - val_loss: 0.1271 - val_acc: 0.9673\n",
            "Epoch 18/30\n",
            "329/329 [==============================] - 1s 3ms/step - loss: 0.0222 - acc: 0.9942 - val_loss: 0.1175 - val_acc: 0.9687\n",
            "Epoch 19/30\n",
            "329/329 [==============================] - 1s 3ms/step - loss: 0.0214 - acc: 0.9942 - val_loss: 0.1219 - val_acc: 0.9683\n",
            "Epoch 20/30\n",
            "329/329 [==============================] - 1s 3ms/step - loss: 0.0231 - acc: 0.9937 - val_loss: 0.1166 - val_acc: 0.9702\n",
            "Epoch 21/30\n",
            "329/329 [==============================] - 1s 3ms/step - loss: 0.0153 - acc: 0.9962 - val_loss: 0.1282 - val_acc: 0.9681\n",
            "Epoch 22/30\n",
            "329/329 [==============================] - 1s 3ms/step - loss: 0.0129 - acc: 0.9970 - val_loss: 0.1268 - val_acc: 0.9689\n",
            "Epoch 23/30\n",
            "329/329 [==============================] - 1s 3ms/step - loss: 0.0119 - acc: 0.9972 - val_loss: 0.1342 - val_acc: 0.9677\n",
            "Epoch 24/30\n",
            "329/329 [==============================] - 1s 3ms/step - loss: 0.0126 - acc: 0.9970 - val_loss: 0.1375 - val_acc: 0.9666\n",
            "Epoch 25/30\n",
            "329/329 [==============================] - 1s 3ms/step - loss: 0.0110 - acc: 0.9973 - val_loss: 0.1389 - val_acc: 0.9667\n",
            "Epoch 26/30\n",
            "329/329 [==============================] - 1s 3ms/step - loss: 0.0102 - acc: 0.9974 - val_loss: 0.1313 - val_acc: 0.9699\n",
            "Epoch 27/30\n",
            "329/329 [==============================] - 1s 3ms/step - loss: 0.0072 - acc: 0.9984 - val_loss: 0.1365 - val_acc: 0.9694\n",
            "Epoch 28/30\n",
            "329/329 [==============================] - 1s 3ms/step - loss: 0.0076 - acc: 0.9985 - val_loss: 0.1597 - val_acc: 0.9664\n",
            "Epoch 29/30\n",
            "329/329 [==============================] - 1s 3ms/step - loss: 0.0151 - acc: 0.9950 - val_loss: 0.1400 - val_acc: 0.9704\n",
            "Epoch 30/30\n",
            "329/329 [==============================] - 1s 3ms/step - loss: 0.0054 - acc: 0.9993 - val_loss: 0.1428 - val_acc: 0.9706\n"
          ],
          "name": "stdout"
        }
      ]
    },
    {
      "cell_type": "code",
      "metadata": {
        "colab": {
          "base_uri": "https://localhost:8080/"
        },
        "id": "XzBqQrTr_NIM",
        "outputId": "f6c43aa7-3fd1-4601-ea52-1bd334a726a8"
      },
      "source": [
        "# history를 통해 확인해볼 수 있는 값 출력하기\n",
        "history.history.keys()"
      ],
      "execution_count": null,
      "outputs": [
        {
          "output_type": "execute_result",
          "data": {
            "text/plain": [
              "dict_keys(['loss', 'acc', 'val_loss', 'val_acc'])"
            ]
          },
          "metadata": {
            "tags": []
          },
          "execution_count": 11
        }
      ]
    },
    {
      "cell_type": "code",
      "metadata": {
        "id": "-t2-1G33_vrT",
        "colab": {
          "base_uri": "https://localhost:8080/",
          "height": 350
        },
        "outputId": "64bde493-8159-4221-9e5d-6325f41cfe55"
      },
      "source": [
        "# 학습 결과 그려보기 \n",
        "import matplotlib.pyplot as plt\n",
        "\n",
        "his_dict = history.history\n",
        "loss     = his_dict['loss'] \n",
        "val_loss = his_dict['val_loss']  #검증 데이터가 있는 경우 val_ 수식어가 붙습니다.\n",
        "\n",
        "epochs = range(1, len(loss) + 1)\n",
        "fig    = plt.figure(figsize=(10,5))\n",
        "\n",
        "# 학습 및 검증 손실 그리기 \n",
        "ax1 = fig.add_subplot(1,2,1)\n",
        "ax1.plot(epochs, loss, color = 'blue', label = 'train_loss')\n",
        "ax1.plot(epochs, val_loss, color = 'orange', label = 'val_loss')\n",
        "ax1.set_title('train and val loss')\n",
        "ax1.set_xlabel('epochs')\n",
        "ax1.set_ylabel('loss')\n",
        "ax1.legend()\n",
        "\n",
        "acc = his_dict['acc']\n",
        "val_acc = his_dict['val_acc'] \n",
        "\n",
        "# 학습 및 검증 정확도 그리기\n",
        "ax2 = fig.add_subplot(1,2,2)\n",
        "ax2.plot(epochs, acc, color='blue', label='train_acc')\n",
        "ax2.plot(epochs, val_acc, color='orange', label='val_acc')\n",
        "ax2.set_title('train and val acc')\n",
        "ax2.set_xlabel('epochs')\n",
        "ax2.set_ylabel('loss')\n",
        "ax2.legend()\n",
        "\n",
        "plt.show()"
      ],
      "execution_count": null,
      "outputs": [
        {
          "output_type": "display_data",
          "data": {
            "image/png": "[encoded data removed]",
            "text/plain": [
              "<Figure size 720x360 with 2 Axes>"
            ]
          },
          "metadata": {
            "tags": [],
            "needs_background": "light"
          }
        }
      ]
    },
    {
      "cell_type": "code",
      "metadata": {
        "colab": {
          "base_uri": "https://localhost:8080/"
        },
        "id": "tV8-ZnGmdJjO",
        "outputId": "697c2bc2-21c2-4647-d48b-c3839c47a598"
      },
      "source": [
        "# 4.1.4 예측하고 정답과 비교해보기\r\n",
        "# 모델 평가하기\r\n",
        "model.evaluate(x_test, y_test)"
      ],
      "execution_count": null,
      "outputs": [
        {
          "output_type": "stream",
          "text": [
            "313/313 [==============================] - 0s 994us/step - loss: 0.1213 - acc: 0.9746\n"
          ],
          "name": "stdout"
        },
        {
          "output_type": "execute_result",
          "data": {
            "text/plain": [
              "[0.12134630233049393, 0.9746000170707703]"
            ]
          },
          "metadata": {
            "tags": []
          },
          "execution_count": 13
        }
      ]
    },
    {
      "cell_type": "code",
      "metadata": {
        "colab": {
          "base_uri": "https://localhost:8080/"
        },
        "id": "ZZ7FyNu9sxdc",
        "outputId": "b81b0d82-98b2-472d-e749-bbff8558769d"
      },
      "source": [
        "# 학습된 모델을 통해 값 예측하기\r\n",
        "import numpy as np\r\n",
        "\r\n",
        "results = model.predict(x_test)\r\n",
        "print(results.shape)\r\n",
        "np.set_printoptions(precision=7)    # numpy 소수점 제한\r\n",
        "print(f'각 클래스에 속할 확률 : \\n{results [0]}')"
      ],
      "execution_count": null,
      "outputs": [
        {
          "output_type": "stream",
          "text": [
            "(10000, 10)\n",
            "각 클래스에 속할 확률 : \n",
            "[5.5162054e-13 3.4087083e-15 1.2810820e-08 7.4366970e-09 1.4378591e-15\n",
            " 1.1754864e-15 4.1043274e-20 9.9999976e-01 1.7057212e-07 3.9137266e-08]\n"
          ],
          "name": "stdout"
        }
      ]
    },
    {
      "cell_type": "code",
      "metadata": {
        "colab": {
          "base_uri": "https://localhost:8080/",
          "height": 281
        },
        "id": "LFA-T-yLs_85",
        "outputId": "60d5f8ba-ded3-4471-91de-92e872d7e06a"
      },
      "source": [
        "# 예측값 그려서 확인해보기\r\n",
        "import matplotlib.pyplot as plt\r\n",
        "\r\n",
        "arg_results = np.argmax(results, axis = -1)   # 가장 큰 값의 인덱스를 가져옵니다.\r\n",
        "plt.imshow(x_test[0].reshape(28,28))\r\n",
        "plt.title('Predicted value of the first image : ' + str(arg_results[0]))\r\n",
        "plt.show()"
      ],
      "execution_count": null,
      "outputs": [
        {
          "output_type": "display_data",
          "data": {
            "image/png": "[encoded data removed]",
            "text/plain": [
              "<Figure size 432x288 with 1 Axes>"
            ]
          },
          "metadata": {
            "tags": [],
            "needs_background": "light"
          }
        }
      ]
    },
    {
      "cell_type": "code",
      "metadata": {
        "colab": {
          "base_uri": "https://localhost:8080/",
          "height": 442
        },
        "id": "V-NImLoutaS6",
        "outputId": "ff4f860c-1abb-42dc-e77b-ea1d329102bb"
      },
      "source": [
        "# 모델 평가 방법 1- 혼동행렬\r\n",
        "# sklearn.metrics 모듈은 여러 가지 평가지표에 관한 기능을 제공합니다.\r\n",
        "from sklearn.metrics import classification_report, confusion_matrix\r\n",
        "import matplotlib.pyplot as plt\r\n",
        "import seaborn as sns\r\n",
        "\r\n",
        "# 혼동행렬을 만듭니다.\r\n",
        "plt.figure(figsize = (7,7))\r\n",
        "cm = confusion_matrix(np.argmax(y_test, axis = -1), np.argmax(results, axis = -1)) \r\n",
        "sns.heatmap(cm, annot = True, fmt = 'd', cmap = 'Blues')\r\n",
        "plt.xlabel('predicted label')\r\n",
        "plt.ylabel('true label')\r\n",
        "plt.show()"
      ],
      "execution_count": null,
      "outputs": [
        {
          "output_type": "display_data",
          "data": {
            "image/png": "[encoded data removed]",
            "text/plain": [
              "<Figure size 504x504 with 2 Axes>"
            ]
          },
          "metadata": {
            "tags": [],
            "needs_background": "light"
          }
        }
      ]
    },
    {
      "cell_type": "code",
      "metadata": {
        "colab": {
          "base_uri": "https://localhost:8080/"
        },
        "id": "rhbgMhhxuBVJ",
        "outputId": "e6376607-fe30-4557-ada8-f5ca3d8cc0f9"
      },
      "source": [
        "# 모델 평가 방법-2 분류 보고서\r\n",
        "print('\\n', classification_report(np.argmax(y_test, axis=-1), np.argmax(results, axis=-1)))"
      ],
      "execution_count": null,
      "outputs": [
        {
          "output_type": "stream",
          "text": [
            "\n",
            "               precision    recall  f1-score   support\n",
            "\n",
            "           0       0.98      0.99      0.99       980\n",
            "           1       0.99      0.99      0.99      1135\n",
            "           2       0.98      0.97      0.98      1032\n",
            "           3       0.97      0.97      0.97      1010\n",
            "           4       0.98      0.97      0.97       982\n",
            "           5       0.97      0.97      0.97       892\n",
            "           6       0.97      0.97      0.97       958\n",
            "           7       0.97      0.98      0.98      1028\n",
            "           8       0.96      0.97      0.97       974\n",
            "           9       0.97      0.96      0.96      1009\n",
            "\n",
            "    accuracy                           0.97     10000\n",
            "   macro avg       0.97      0.97      0.97     10000\n",
            "weighted avg       0.97      0.97      0.97     10000\n",
            "\n"
          ],
          "name": "stdout"
        }
      ]
    }
  ]
}