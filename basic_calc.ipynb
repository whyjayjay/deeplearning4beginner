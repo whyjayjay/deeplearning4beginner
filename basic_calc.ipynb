{
  "nbformat": 4,
  "nbformat_minor": 0,
  "metadata": {
    "colab": {
      "name": "basic_calc.ipynb",
      "provenance": [],
      "authorship_tag": "ABX9TyMnPCOXpwi20MXYuYkYkvUf",
      "include_colab_link": true
    },
    "kernelspec": {
      "name": "python3",
      "display_name": "Python 3"
    }
  },
  "cells": [
    {
      "cell_type": "markdown",
      "metadata": {
        "id": "view-in-github",
        "colab_type": "text"
      },
      "source": [
        "<a href=\"https://colab.research.google.com/github/whyjayjay/deeplearning4beginner/blob/main/basic_calc.ipynb\" target=\"_parent\"><img src=\"https://colab.research.google.com/assets/colab-badge.svg\" alt=\"Open In Colab\"/></a>"
      ]
    },
    {
      "cell_type": "code",
      "metadata": {
        "colab": {
          "base_uri": "https://localhost:8080/"
        },
        "id": "3tU-2oGMOpOo",
        "outputId": "dc11eab9-509c-4378-e886-25a3ba3f09de"
      },
      "source": [
        "# 필요한 모듈을 임포트합니다.\n",
        "import tensorflow as tf\n",
        "import numpy as np\n",
        "\n",
        "# 텐서의 차원과 기본 연산\n",
        "a = tf.constant(2)   # 텐서를 선언합니다.\n",
        "print(tf.rank(a))    # 해당 텐서의 랭크를 계산합니다.\n",
        "\n",
        "b = tf.constant([1,2])\n",
        "print(tf.rank(b))\n",
        "\n",
        "c = tf.constant([[1,2],[3,4]])\n",
        "print(tf.rank(c))"
      ],
      "execution_count": 7,
      "outputs": [
        {
          "output_type": "stream",
          "text": [
            "tf.Tensor(0, shape=(), dtype=int32)\n",
            "tf.Tensor(1, shape=(), dtype=int32)\n",
            "tf.Tensor(2, shape=(), dtype=int32)\n"
          ],
          "name": "stdout"
        }
      ]
    },
    {
      "cell_type": "code",
      "metadata": {
        "colab": {
          "base_uri": "https://localhost:8080/"
        },
        "id": "X3kf2BTAO8mG",
        "outputId": "650a72d3-f3e3-41d9-ae9d-81525d16c9f2"
      },
      "source": [
        "# 즉시 실행 모드를 통한 연산\n",
        "a = tf.constant(3)\n",
        "b = tf.constant(2)\n",
        "\n",
        "# 기본 연산\n",
        "# 텐서 형태로 출력해보기\n",
        "print(tf.add(a,b))       # 더하기\n",
        "print(tf.subtract(a,b))  # 빼기\n",
        "\n",
        "# 넘파이 배열 형태로 출력해보기기\n",
        "print(tf.multiply(a,b).numpy())  # 곱하기\n",
        "print(tf.divide(a,b).numpy())    # 나누기"
      ],
      "execution_count": 8,
      "outputs": [
        {
          "output_type": "stream",
          "text": [
            "tf.Tensor(5, shape=(), dtype=int32)\n",
            "tf.Tensor(1, shape=(), dtype=int32)\n",
            "6\n",
            "1.5\n"
          ],
          "name": "stdout"
        }
      ]
    },
    {
      "cell_type": "code",
      "metadata": {
        "colab": {
          "base_uri": "https://localhost:8080/"
        },
        "id": "yE_z4rHjPFH6",
        "outputId": "236dd108-cdb3-4dea-d42e-4a3166e719ae"
      },
      "source": [
        "# 텐서에서 넘파이로, 넘파이에서 텐서로\n",
        "c = tf.add(a,b).numpy()                          # a와 b를 더한 후 NumPy 배열 형태로 변환합니다.\n",
        "c_square = np.square(c, dtype = np.float32)      # NumPy 모듈에 존재하는 square 함수를 적용합니다.\n",
        "c_tensor = tf.convert_to_tensor(c_square)        # 다시 텐서로 변환해줍니다.\n",
        "\n",
        "# 넘파이 배열과 텐서 각각을 확인하기 위해 출력합니다.\n",
        "print('numpy array : %0.1f, applying square with numpy : %0.1f, convert_to_tensor : %0.1f' % (c, c_square, c_tensor))"
      ],
      "execution_count": 10,
      "outputs": [
        {
          "output_type": "stream",
          "text": [
            "numpy array : 5.0, applying square with numpy : 25.0, convert_to_tensor : 25.0\n"
          ],
          "name": "stdout"
        }
      ]
    },
    {
      "cell_type": "code",
      "metadata": {
        "colab": {
          "base_uri": "https://localhost:8080/"
        },
        "id": "BoqHTwejPJit",
        "outputId": "0ed52ea4-51c0-490f-f88f-d953e39048e4"
      },
      "source": [
        "from tensorflow.math import sin, cos, tanh                 # 수학에 관련된 모듈\n",
        "from tensorflow.linalg import diag, svd, matrix_transpose  # 선형대수학에 관련된 모듈\n",
        "\n",
        "# @tf.function 사용해보기\n",
        "#@tf.function\n",
        "def square_pos(x):\n",
        "    if x > 0:\n",
        "        x = x * x\n",
        "    else:\n",
        "        x = x * -1\n",
        "    return x\n",
        "print(square_pos(tf.constant(2)))\n",
        "square_pos"
      ],
      "execution_count": 13,
      "outputs": [
        {
          "output_type": "stream",
          "text": [
            "tf.Tensor(4, shape=(), dtype=int32)\n"
          ],
          "name": "stdout"
        },
        {
          "output_type": "execute_result",
          "data": {
            "text/plain": [
              "<function __main__.square_pos>"
            ]
          },
          "metadata": {
            "tags": []
          },
          "execution_count": 13
        }
      ]
    }
  ]
}